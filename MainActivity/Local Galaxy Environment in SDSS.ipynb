{
 "cells": [
  {
   "cell_type": "code",
   "execution_count": 1,
   "id": "842713af-88d7-44bf-b343-a625437d48f3",
   "metadata": {},
   "outputs": [],
   "source": [
    "import numpy as np\n",
    "from astropy.io import fits\n",
    "from astropy.table import Table\n",
    "from astropy.coordinates import FK5, SkyCoord\n",
    "from astropy.cosmology import Planck18 as cosmo\n",
    "from astropy import units as u\n",
    "from tqdm import tqdm"
   ]
  },
  {
   "cell_type": "code",
   "execution_count": 2,
   "id": "6c4634af-ad4b-41d6-b234-62bcb84b1bb7",
   "metadata": {},
   "outputs": [],
   "source": [
    "data = Table.read('SDSS_LAB2024_photometry.fits')"
   ]
  },
  {
   "cell_type": "markdown",
   "id": "2c12b3cb-3118-4b36-864b-09747da2234a",
   "metadata": {},
   "source": [
    "When computing the local environment it is common to define: A Primary galaxy (the one you are computing the local density for), the Neighbours sample (all the other galaxies that contribute to the environment metrics)"
   ]
  },
  {
   "cell_type": "code",
   "execution_count": 3,
   "id": "73dc8ee7-742f-4bbb-b7d4-5a9b2d54b667",
   "metadata": {},
   "outputs": [
    {
     "name": "stderr",
     "output_type": "stream",
     "text": [
      "  0%|          | 0/92483 [00:00<?, ?it/s]"
     ]
    },
    {
     "name": "stderr",
     "output_type": "stream",
     "text": [
      " 18%|█▊        | 16784/92483 [06:39<29:58, 42.08it/s]"
     ]
    }
   ],
   "source": [
    "Nneigh = np.zeros_like(data['ra'])\n",
    "AP_radius = 500 #kpc\n",
    "DV_cut    = 1000 #km/s\n",
    "\n",
    "NEIcoords = SkyCoord(ra=data['ra']*u.deg, dec=data['dec']*u.deg)\n",
    "\n",
    "for gal in tqdm(range(len(data['id']))):\n",
    "\n",
    "    PRIcoords = SkyCoord(ra=data['ra'][gal]*u.deg, dec=data['dec'][gal]*u.deg)\n",
    "    PRIredshift = data['redshift'][gal]\n",
    "    \n",
    "    #Obtain a separation of all galaxies from the primary and convert to arcsec\n",
    "    Separation = NEIcoords.separation(PRIcoords).to(u.arcsec)\n",
    "\n",
    "    #Kpc to arcsec and obtain a Separation in Kpc\n",
    "    arcsec_per_kpc = cosmo.arcsec_per_kpc_proper(PRIredshift)\n",
    "    Separation_kpc = Separation.value/arcsec_per_kpc.value\n",
    "\n",
    "    #Evaluate separation in redshift space\n",
    "    deltav = np.abs(3e5*(data['redshift']-PRIredshift)/(1+PRIredshift))\n",
    "\n",
    "    #Define the selection conditions\n",
    "    condition =  (Separation_kpc>0) & (Separation_kpc<AP_radius) & (deltav<DV_cut)\n",
    "    \n",
    "    #Save the number of galaxies satisfying the selections. Please note these values do not include the primary galaxy.\n",
    "    Nneigh[gal] = condition.sum()\n"
   ]
  },
  {
   "cell_type": "code",
   "execution_count": null,
   "id": "02f16596-6783-4666-b594-7a53090bd534",
   "metadata": {},
   "outputs": [],
   "source": [
    "#Turn the number of galaxies into a surface density of galaxies.\n",
    "Dens_05 = Nneigh/(np.pi*0.5**2)"
   ]
  },
  {
   "cell_type": "code",
   "execution_count": null,
   "id": "b69ac947-feb3-4c65-a674-7d03009ef22e",
   "metadata": {},
   "outputs": [],
   "source": [
    "tabout = Table((data['id'], Dens_05), names=('id', 'dens_05'))\n",
    "tabout.write('SDSS_env.fits', overwrite=True)"
   ]
  },
  {
   "cell_type": "code",
   "execution_count": null,
   "id": "2fefa967-d241-4786-8052-ed422c4a6efd",
   "metadata": {},
   "outputs": [],
   "source": []
  }
 ],
 "metadata": {
  "kernelspec": {
   "display_name": "Python 3 (ipykernel)",
   "language": "python",
   "name": "python3"
  },
  "language_info": {
   "codemirror_mode": {
    "name": "ipython",
    "version": 3
   },
   "file_extension": ".py",
   "mimetype": "text/x-python",
   "name": "python",
   "nbconvert_exporter": "python",
   "pygments_lexer": "ipython3",
   "version": "3.10.13"
  }
 },
 "nbformat": 4,
 "nbformat_minor": 5
}
