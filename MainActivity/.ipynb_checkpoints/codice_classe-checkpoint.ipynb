{
 "cells": [
  {
   "cell_type": "markdown",
   "id": "c91a6461-604a-4d16-be0a-6296e024fc1c",
   "metadata": {},
   "source": [
    "# Codice classe"
   ]
  },
  {
   "cell_type": "code",
   "execution_count": 11,
   "id": "78569ae7-8921-49a5-8ef8-dab5bce1d801",
   "metadata": {},
   "outputs": [],
   "source": [
    "import numpy as np\n",
    "import matplotlib.pyplot as plt\n",
    "import astropy.units as u\n",
    "from astropy.cosmology import Planck13, z_at_value"
   ]
  },
  {
   "cell_type": "code",
   "execution_count": 12,
   "id": "03270093-9155-4b28-bd42-d8b2ef60ebd9",
   "metadata": {},
   "outputs": [],
   "source": [
    "# set global parameters \n",
    "dt= 0.01 #Gyr\n",
    "eps = 0.02\n",
    "eta = 1.0\n",
    "R = 0.1\n",
    "f_b= 0.15\n",
    "M_h_min = 1.e9\n",
    "M_h_max = 10.0**11.6\n",
    "M_h_form = 5.e8 #dm halo mass at t_form"
   ]
  },
  {
   "cell_type": "code",
   "execution_count": 13,
   "id": "446d2c65-73d2-44af-80ff-fb75618b039a",
   "metadata": {},
   "outputs": [],
   "source": [
    "#set global arrays\n",
    "t = np.arange(dt,13.0,dt) #Gyr\n",
    "z = t*0.\n",
    "t_dyn = t*0.\n",
    "for i in range(len(t)):\n",
    "    z[i] = z_at_value(Planck13.age, t[i] * u.Gyr)\n",
    "    t_dyn[i] = 2.e7*(1+z[i])**(-0.75) #yr"
   ]
  },
  {
   "cell_type": "code",
   "execution_count": 15,
   "id": "d446d6a8-3386-40e2-b834-b6a91409c9af",
   "metadata": {},
   "outputs": [],
   "source": [
    "def evolve_galaxy(t_form, t_obs, M_h_in):\n",
    "    #initialize arrays\n",
    "    M_h = t*0.\n",
    "    M_g = t*0.\n",
    "    M_s = t*0.\n",
    "    SFR = t*0.\n",
    "    i = 0 \n",
    "    while i < len(t):\n",
    "        if t[i] < t_form:\n",
    "            M_h[i] = M_h_in\n",
    "        elif t[i] < t_obs:\n",
    "            M_dot_h = 42.0 * ((M_h[i-1]/1.e12)**1.127) * (1+1.17 * z[i])*(0.3*(1+z[i])**3+0.7)**0.5 #M_sun/yr\n",
    "            M_h[i] = M_h[i-1] + M_dot_h*dt*1.e9\n",
    "            if M_h[i]< M_h_min:\n",
    "                csi=0.0\n",
    "            elif M_h[i]> M_h_min and M_h[i]< M_h_max:\n",
    "                csi=1.0\n",
    "            else:\n",
    "                csi=0.0        #csi= (M_h_max/M_h[i])\n",
    "            M_g[i]= M_g[i-1] + dt*1.e9*(f_b* csi* M_dot_h -eps*(1+eta-R)*m_g[i-1]/t_dyn[i])\n",
    "            SFR[i] = eps * M_g[i] /t_dyn[i]\n",
    "            M_s[i] = M_s[i-1] + SFR[i]*dt*1.e9\n",
    "        else:\n",
    "            M_h[i] = M_h[i-1]\n",
    "            M_g[i] = M_g[i-1]\n",
    "            M_s[i] = M_s[i-1]\n",
    "            SFR[i] = SFR[i-1]\n",
    "        i=i+1\n",
    "        \n",
    "    return M_h, M_g, M_s, SFR\n",
    "                                \n",
    "\n",
    "\n",
    "\n",
    "\n",
    "\n",
    "\n",
    "\n"
   ]
  },
  {
   "cell_type": "code",
   "execution_count": null,
   "id": "c2b01247-02cf-432a-a50a-8c9dff2b8cc7",
   "metadata": {},
   "outputs": [],
   "source": []
  }
 ],
 "metadata": {
  "kernelspec": {
   "display_name": "venv",
   "language": "python",
   "name": "venv"
  },
  "language_info": {
   "codemirror_mode": {
    "name": "ipython",
    "version": 3
   },
   "file_extension": ".py",
   "mimetype": "text/x-python",
   "name": "python",
   "nbconvert_exporter": "python",
   "pygments_lexer": "ipython3",
   "version": "3.11.6"
  }
 },
 "nbformat": 4,
 "nbformat_minor": 5
}
